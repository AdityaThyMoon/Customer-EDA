{
  "nbformat": 4,
  "nbformat_minor": 0,
  "metadata": {
    "colab": {
      "provenance": []
    },
    "kernelspec": {
      "name": "python3",
      "display_name": "Python 3"
    },
    "language_info": {
      "name": "python"
    }
  },
  "cells": [
    {
      "cell_type": "code",
      "source": [
        "# remove 0 and null values"
      ],
      "metadata": {
        "id": "naMvG1CU-hE_"
      },
      "execution_count": 2,
      "outputs": []
    },
    {
      "cell_type": "code",
      "source": [
        "# Let's do an EDA to\n",
        "\n",
        "# 0. Reading our data"
      ],
      "metadata": {
        "id": "h5wM4ouMn6jx"
      },
      "execution_count": 3,
      "outputs": []
    },
    {
      "cell_type": "code",
      "source": [
        "! pip install kaggle\n",
        "! mkdir ~/.kaggle\n",
        "! cp kaggle.json ~/.kaggle/\n",
        "! chmod 600 ~/.kaggle/kaggle.json\n",
        "! kaggle datasets download 'imakash3011/customer-personality-analysis' --force\n",
        "! unzip /content/customer-personality-analysis.zip"
      ],
      "metadata": {
        "id": "RYoAuoDQ5Mo3",
        "colab": {
          "base_uri": "https://localhost:8080/"
        },
        "outputId": "7a7980d2-6270-4d83-b882-4652b34c1252"
      },
      "execution_count": 4,
      "outputs": [
        {
          "output_type": "stream",
          "name": "stdout",
          "text": [
            "Requirement already satisfied: kaggle in /usr/local/lib/python3.10/dist-packages (1.6.12)\n",
            "Requirement already satisfied: six>=1.10 in /usr/local/lib/python3.10/dist-packages (from kaggle) (1.16.0)\n",
            "Requirement already satisfied: certifi>=2023.7.22 in /usr/local/lib/python3.10/dist-packages (from kaggle) (2024.2.2)\n",
            "Requirement already satisfied: python-dateutil in /usr/local/lib/python3.10/dist-packages (from kaggle) (2.8.2)\n",
            "Requirement already satisfied: requests in /usr/local/lib/python3.10/dist-packages (from kaggle) (2.31.0)\n",
            "Requirement already satisfied: tqdm in /usr/local/lib/python3.10/dist-packages (from kaggle) (4.66.4)\n",
            "Requirement already satisfied: python-slugify in /usr/local/lib/python3.10/dist-packages (from kaggle) (8.0.4)\n",
            "Requirement already satisfied: urllib3 in /usr/local/lib/python3.10/dist-packages (from kaggle) (2.0.7)\n",
            "Requirement already satisfied: bleach in /usr/local/lib/python3.10/dist-packages (from kaggle) (6.1.0)\n",
            "Requirement already satisfied: webencodings in /usr/local/lib/python3.10/dist-packages (from bleach->kaggle) (0.5.1)\n",
            "Requirement already satisfied: text-unidecode>=1.3 in /usr/local/lib/python3.10/dist-packages (from python-slugify->kaggle) (1.3)\n",
            "Requirement already satisfied: charset-normalizer<4,>=2 in /usr/local/lib/python3.10/dist-packages (from requests->kaggle) (3.3.2)\n",
            "Requirement already satisfied: idna<4,>=2.5 in /usr/local/lib/python3.10/dist-packages (from requests->kaggle) (3.7)\n",
            "cp: cannot stat 'kaggle.json': No such file or directory\n",
            "chmod: cannot access '/root/.kaggle/kaggle.json': No such file or directory\n",
            "Dataset URL: https://www.kaggle.com/datasets/imakash3011/customer-personality-analysis\n",
            "License(s): CC0-1.0\n",
            "Downloading customer-personality-analysis.zip to /content\n",
            "  0% 0.00/62.0k [00:00<?, ?B/s]\n",
            "100% 62.0k/62.0k [00:00<00:00, 43.0MB/s]\n",
            "Archive:  /content/customer-personality-analysis.zip\n",
            "  inflating: marketing_campaign.csv  \n"
          ]
        }
      ]
    },
    {
      "cell_type": "code",
      "source": [
        "# import csv\n",
        "# with open(\"marketing_campaign.csv\", \"r\") as f:\n",
        "#   for line in f:\n",
        "#     print(line)\n",
        "\n",
        "# %unload_ext colab_ai"
      ],
      "metadata": {
        "id": "PpNI1XYAx9kz"
      },
      "execution_count": 5,
      "outputs": []
    },
    {
      "cell_type": "code",
      "source": [
        "import pandas as pd\n",
        "import numpy as np\n",
        "import matplotlib.pyplot as plt\n",
        "import seaborn as sns\n",
        "import datetime\n",
        "\n",
        "df = pd.read_csv(\"marketing_campaign.csv\", sep=\"\\t\")\n",
        "pd.set_option('display.max_columns', 50)  # Display all columns\n",
        "plt.style.use(\"ggplot\")\n",
        "\n",
        "# pd.set_option('display.width', 1000)  # Set width for better readability\n",
        "# pd.set_option('display.expand_frame_repr', False)  # Prevent the DataFrame from wrapping across multiple lines\n"
      ],
      "metadata": {
        "id": "wgGd_U7ivkaj"
      },
      "execution_count": 6,
      "outputs": []
    },
    {
      "cell_type": "code",
      "source": [
        "#1. Data understanding\n",
        "print(df.shape)\n",
        "print(df.head())"
      ],
      "metadata": {
        "id": "MCPD7KX6TIao",
        "colab": {
          "base_uri": "https://localhost:8080/"
        },
        "outputId": "b45e348d-4e98-4b0b-cf5c-377a332e9b22",
        "collapsed": true
      },
      "execution_count": 7,
      "outputs": [
        {
          "output_type": "stream",
          "name": "stdout",
          "text": [
            "(2240, 29)\n",
            "     ID  Year_Birth   Education Marital_Status   Income  Kidhome  Teenhome  \\\n",
            "0  5524        1957  Graduation         Single  58138.0        0         0   \n",
            "1  2174        1954  Graduation         Single  46344.0        1         1   \n",
            "2  4141        1965  Graduation       Together  71613.0        0         0   \n",
            "3  6182        1984  Graduation       Together  26646.0        1         0   \n",
            "4  5324        1981         PhD        Married  58293.0        1         0   \n",
            "\n",
            "  Dt_Customer  Recency  MntWines  MntFruits  MntMeatProducts  MntFishProducts  \\\n",
            "0  04-09-2012       58       635         88              546              172   \n",
            "1  08-03-2014       38        11          1                6                2   \n",
            "2  21-08-2013       26       426         49              127              111   \n",
            "3  10-02-2014       26        11          4               20               10   \n",
            "4  19-01-2014       94       173         43              118               46   \n",
            "\n",
            "   MntSweetProducts  MntGoldProds  NumDealsPurchases  NumWebPurchases  \\\n",
            "0                88            88                  3                8   \n",
            "1                 1             6                  2                1   \n",
            "2                21            42                  1                8   \n",
            "3                 3             5                  2                2   \n",
            "4                27            15                  5                5   \n",
            "\n",
            "   NumCatalogPurchases  NumStorePurchases  NumWebVisitsMonth  AcceptedCmp3  \\\n",
            "0                   10                  4                  7             0   \n",
            "1                    1                  2                  5             0   \n",
            "2                    2                 10                  4             0   \n",
            "3                    0                  4                  6             0   \n",
            "4                    3                  6                  5             0   \n",
            "\n",
            "   AcceptedCmp4  AcceptedCmp5  AcceptedCmp1  AcceptedCmp2  Complain  \\\n",
            "0             0             0             0             0         0   \n",
            "1             0             0             0             0         0   \n",
            "2             0             0             0             0         0   \n",
            "3             0             0             0             0         0   \n",
            "4             0             0             0             0         0   \n",
            "\n",
            "   Z_CostContact  Z_Revenue  Response  \n",
            "0              3         11         1  \n",
            "1              3         11         0  \n",
            "2              3         11         0  \n",
            "3              3         11         0  \n",
            "4              3         11         0  \n"
          ]
        }
      ]
    },
    {
      "cell_type": "code",
      "source": [
        "print(df.columns)\n",
        "#I'll add a description of each column here for convenience, based on their description on the Kaggle dataset page [as well as my understanding?]\n",
        "\n",
        "print(df.describe()) #Count number if the number of entries\n",
        "#Make this look better"
      ],
      "metadata": {
        "colab": {
          "base_uri": "https://localhost:8080/"
        },
        "id": "IpB56oelbCqI",
        "outputId": "5db6440e-1416-45d7-8583-3e23fa3e9a48"
      },
      "execution_count": 8,
      "outputs": [
        {
          "output_type": "stream",
          "name": "stdout",
          "text": [
            "Index(['ID', 'Year_Birth', 'Education', 'Marital_Status', 'Income', 'Kidhome',\n",
            "       'Teenhome', 'Dt_Customer', 'Recency', 'MntWines', 'MntFruits',\n",
            "       'MntMeatProducts', 'MntFishProducts', 'MntSweetProducts',\n",
            "       'MntGoldProds', 'NumDealsPurchases', 'NumWebPurchases',\n",
            "       'NumCatalogPurchases', 'NumStorePurchases', 'NumWebVisitsMonth',\n",
            "       'AcceptedCmp3', 'AcceptedCmp4', 'AcceptedCmp5', 'AcceptedCmp1',\n",
            "       'AcceptedCmp2', 'Complain', 'Z_CostContact', 'Z_Revenue', 'Response'],\n",
            "      dtype='object')\n",
            "                 ID   Year_Birth         Income      Kidhome     Teenhome  \\\n",
            "count   2240.000000  2240.000000    2216.000000  2240.000000  2240.000000   \n",
            "mean    5592.159821  1968.805804   52247.251354     0.444196     0.506250   \n",
            "std     3246.662198    11.984069   25173.076661     0.538398     0.544538   \n",
            "min        0.000000  1893.000000    1730.000000     0.000000     0.000000   \n",
            "25%     2828.250000  1959.000000   35303.000000     0.000000     0.000000   \n",
            "50%     5458.500000  1970.000000   51381.500000     0.000000     0.000000   \n",
            "75%     8427.750000  1977.000000   68522.000000     1.000000     1.000000   \n",
            "max    11191.000000  1996.000000  666666.000000     2.000000     2.000000   \n",
            "\n",
            "           Recency     MntWines    MntFruits  MntMeatProducts  \\\n",
            "count  2240.000000  2240.000000  2240.000000      2240.000000   \n",
            "mean     49.109375   303.935714    26.302232       166.950000   \n",
            "std      28.962453   336.597393    39.773434       225.715373   \n",
            "min       0.000000     0.000000     0.000000         0.000000   \n",
            "25%      24.000000    23.750000     1.000000        16.000000   \n",
            "50%      49.000000   173.500000     8.000000        67.000000   \n",
            "75%      74.000000   504.250000    33.000000       232.000000   \n",
            "max      99.000000  1493.000000   199.000000      1725.000000   \n",
            "\n",
            "       MntFishProducts  MntSweetProducts  MntGoldProds  NumDealsPurchases  \\\n",
            "count      2240.000000       2240.000000   2240.000000        2240.000000   \n",
            "mean         37.525446         27.062946     44.021875           2.325000   \n",
            "std          54.628979         41.280498     52.167439           1.932238   \n",
            "min           0.000000          0.000000      0.000000           0.000000   \n",
            "25%           3.000000          1.000000      9.000000           1.000000   \n",
            "50%          12.000000          8.000000     24.000000           2.000000   \n",
            "75%          50.000000         33.000000     56.000000           3.000000   \n",
            "max         259.000000        263.000000    362.000000          15.000000   \n",
            "\n",
            "       NumWebPurchases  NumCatalogPurchases  NumStorePurchases  \\\n",
            "count      2240.000000          2240.000000        2240.000000   \n",
            "mean          4.084821             2.662054           5.790179   \n",
            "std           2.778714             2.923101           3.250958   \n",
            "min           0.000000             0.000000           0.000000   \n",
            "25%           2.000000             0.000000           3.000000   \n",
            "50%           4.000000             2.000000           5.000000   \n",
            "75%           6.000000             4.000000           8.000000   \n",
            "max          27.000000            28.000000          13.000000   \n",
            "\n",
            "       NumWebVisitsMonth  AcceptedCmp3  AcceptedCmp4  AcceptedCmp5  \\\n",
            "count        2240.000000   2240.000000   2240.000000   2240.000000   \n",
            "mean            5.316518      0.072768      0.074554      0.072768   \n",
            "std             2.426645      0.259813      0.262728      0.259813   \n",
            "min             0.000000      0.000000      0.000000      0.000000   \n",
            "25%             3.000000      0.000000      0.000000      0.000000   \n",
            "50%             6.000000      0.000000      0.000000      0.000000   \n",
            "75%             7.000000      0.000000      0.000000      0.000000   \n",
            "max            20.000000      1.000000      1.000000      1.000000   \n",
            "\n",
            "       AcceptedCmp1  AcceptedCmp2     Complain  Z_CostContact  Z_Revenue  \\\n",
            "count   2240.000000   2240.000000  2240.000000         2240.0     2240.0   \n",
            "mean       0.064286      0.013393     0.009375            3.0       11.0   \n",
            "std        0.245316      0.114976     0.096391            0.0        0.0   \n",
            "min        0.000000      0.000000     0.000000            3.0       11.0   \n",
            "25%        0.000000      0.000000     0.000000            3.0       11.0   \n",
            "50%        0.000000      0.000000     0.000000            3.0       11.0   \n",
            "75%        0.000000      0.000000     0.000000            3.0       11.0   \n",
            "max        1.000000      1.000000     1.000000            3.0       11.0   \n",
            "\n",
            "          Response  \n",
            "count  2240.000000  \n",
            "mean      0.149107  \n",
            "std       0.356274  \n",
            "min       0.000000  \n",
            "25%       0.000000  \n",
            "50%       0.000000  \n",
            "75%       0.000000  \n",
            "max       1.000000  \n"
          ]
        }
      ]
    },
    {
      "cell_type": "code",
      "source": [
        "print(df.nunique())"
      ],
      "metadata": {
        "id": "55tDSlLTQxC9",
        "colab": {
          "base_uri": "https://localhost:8080/"
        },
        "outputId": "99c7a6ac-68df-408b-b6be-53c6a3a2f4d4"
      },
      "execution_count": 9,
      "outputs": [
        {
          "output_type": "stream",
          "name": "stdout",
          "text": [
            "ID                     2240\n",
            "Year_Birth               59\n",
            "Education                 5\n",
            "Marital_Status            8\n",
            "Income                 1974\n",
            "Kidhome                   3\n",
            "Teenhome                  3\n",
            "Dt_Customer             663\n",
            "Recency                 100\n",
            "MntWines                776\n",
            "MntFruits               158\n",
            "MntMeatProducts         558\n",
            "MntFishProducts         182\n",
            "MntSweetProducts        177\n",
            "MntGoldProds            213\n",
            "NumDealsPurchases        15\n",
            "NumWebPurchases          15\n",
            "NumCatalogPurchases      14\n",
            "NumStorePurchases        14\n",
            "NumWebVisitsMonth        16\n",
            "AcceptedCmp3              2\n",
            "AcceptedCmp4              2\n",
            "AcceptedCmp5              2\n",
            "AcceptedCmp1              2\n",
            "AcceptedCmp2              2\n",
            "Complain                  2\n",
            "Z_CostContact             1\n",
            "Z_Revenue                 1\n",
            "Response                  2\n",
            "dtype: int64\n"
          ]
        }
      ]
    },
    {
      "cell_type": "code",
      "source": [
        "#2. Data Preparation"
      ],
      "metadata": {
        "id": "2nXIHF55cy4e"
      },
      "execution_count": 10,
      "outputs": []
    },
    {
      "cell_type": "code",
      "source": [
        "#When we look at df.nunique() values:\n",
        "print(df.nunique())\n",
        "#Columns Z_CostContact and Z_Revenue only have 1 unique value. Moreover, there values are not described on [] the Kaggle Data Card and having arbitrary meanings. We will drop both of them.\n",
        "\n",
        "df.drop(columns=[\"Z_CostContact\", \"Z_Revenue\"], inplace=True)"
      ],
      "metadata": {
        "id": "sR6M3oMXeAOr",
        "colab": {
          "base_uri": "https://localhost:8080/"
        },
        "outputId": "dd8b1feb-a9ef-4873-acec-5d1b06be54c6"
      },
      "execution_count": 11,
      "outputs": [
        {
          "output_type": "stream",
          "name": "stdout",
          "text": [
            "ID                     2240\n",
            "Year_Birth               59\n",
            "Education                 5\n",
            "Marital_Status            8\n",
            "Income                 1974\n",
            "Kidhome                   3\n",
            "Teenhome                  3\n",
            "Dt_Customer             663\n",
            "Recency                 100\n",
            "MntWines                776\n",
            "MntFruits               158\n",
            "MntMeatProducts         558\n",
            "MntFishProducts         182\n",
            "MntSweetProducts        177\n",
            "MntGoldProds            213\n",
            "NumDealsPurchases        15\n",
            "NumWebPurchases          15\n",
            "NumCatalogPurchases      14\n",
            "NumStorePurchases        14\n",
            "NumWebVisitsMonth        16\n",
            "AcceptedCmp3              2\n",
            "AcceptedCmp4              2\n",
            "AcceptedCmp5              2\n",
            "AcceptedCmp1              2\n",
            "AcceptedCmp2              2\n",
            "Complain                  2\n",
            "Z_CostContact             1\n",
            "Z_Revenue                 1\n",
            "Response                  2\n",
            "dtype: int64\n"
          ]
        }
      ]
    },
    {
      "cell_type": "code",
      "source": [
        "#Combine columns\n",
        "\n",
        "df[\"Children\"] = df[\"Kidhome\"] + df[\"Teenhome\"]\n",
        "df.drop(columns=[\"Kidhome\", \"Teenhome\"], inplace=True)\n",
        "\n",
        "df[\"Meat Spending\"] = df[\"MntMeatProducts\"] + df[\"MntFishProducts\"]\n",
        "df.drop(columns=['MntMeatProducts', 'MntFishProducts'], inplace=True)\n",
        "\n",
        "df[\"Luxary Spending\"] = df['MntWines'] + df['MntSweetProducts']\n",
        "df.drop(columns=['MntWines','MntSweetProducts'], inplace=True)\n",
        "\n",
        "df.rename(columns={\"MntFruits\": \"Fruit Spending\"}, inplace=True)\n",
        "df.rename(columns={\"MntGoldProds\": \"Gold Spending\"}, inplace=True)"
      ],
      "metadata": {
        "id": "QL5K8VlK0RxA"
      },
      "execution_count": 12,
      "outputs": []
    },
    {
      "cell_type": "code",
      "source": [
        "df[\"Total Campaigns Accepted\"] = df[\"AcceptedCmp1\"] + df[\"AcceptedCmp2\"] + df[\"AcceptedCmp3\"] + df[\"AcceptedCmp4\"] + df[\"AcceptedCmp5\"] + df[\"Response\"]\n",
        "df.rename(columns={\"Response\": \"AcceptedCmp6\"}, inplace=True)"
      ],
      "metadata": {
        "id": "2h-Ohc9X3uRh"
      },
      "execution_count": 13,
      "outputs": []
    },
    {
      "cell_type": "code",
      "source": [
        "print(df[\"Total Campaigns Accepted\"].value_counts())"
      ],
      "metadata": {
        "colab": {
          "base_uri": "https://localhost:8080/"
        },
        "id": "-mNJGpPm35AS",
        "outputId": "ef51d7e9-eba7-4d6c-deea-b18efde307e7"
      },
      "execution_count": 14,
      "outputs": [
        {
          "output_type": "stream",
          "name": "stdout",
          "text": [
            "Total Campaigns Accepted\n",
            "0    1631\n",
            "1     370\n",
            "2     142\n",
            "3      51\n",
            "4      36\n",
            "5      10\n",
            "Name: count, dtype: int64\n"
          ]
        }
      ]
    },
    {
      "cell_type": "code",
      "source": [
        "# #Dropping this category because NumWebPurchases gives enough relevence ?\n",
        "# df.drop(column=[\"NumWebVisitsMonth\"], inplace=True)"
      ],
      "metadata": {
        "id": "OjoP7rrvNuWA"
      },
      "execution_count": 15,
      "outputs": []
    },
    {
      "cell_type": "code",
      "source": [
        "print(df)\n",
        "#Make the col names more consistent later"
      ],
      "metadata": {
        "colab": {
          "base_uri": "https://localhost:8080/"
        },
        "id": "ftOGBS0xGLgr",
        "outputId": "744a74ca-5002-418b-e563-494091f77b35"
      },
      "execution_count": 16,
      "outputs": [
        {
          "output_type": "stream",
          "name": "stdout",
          "text": [
            "         ID  Year_Birth   Education Marital_Status   Income Dt_Customer  \\\n",
            "0      5524        1957  Graduation         Single  58138.0  04-09-2012   \n",
            "1      2174        1954  Graduation         Single  46344.0  08-03-2014   \n",
            "2      4141        1965  Graduation       Together  71613.0  21-08-2013   \n",
            "3      6182        1984  Graduation       Together  26646.0  10-02-2014   \n",
            "4      5324        1981         PhD        Married  58293.0  19-01-2014   \n",
            "...     ...         ...         ...            ...      ...         ...   \n",
            "2235  10870        1967  Graduation        Married  61223.0  13-06-2013   \n",
            "2236   4001        1946         PhD       Together  64014.0  10-06-2014   \n",
            "2237   7270        1981  Graduation       Divorced  56981.0  25-01-2014   \n",
            "2238   8235        1956      Master       Together  69245.0  24-01-2014   \n",
            "2239   9405        1954         PhD        Married  52869.0  15-10-2012   \n",
            "\n",
            "      Recency  Fruit Spending  Gold Spending  NumDealsPurchases  \\\n",
            "0          58              88             88                  3   \n",
            "1          38               1              6                  2   \n",
            "2          26              49             42                  1   \n",
            "3          26               4              5                  2   \n",
            "4          94              43             15                  5   \n",
            "...       ...             ...            ...                ...   \n",
            "2235       46              43            247                  2   \n",
            "2236       56               0              8                  7   \n",
            "2237       91              48             24                  1   \n",
            "2238        8              30             61                  2   \n",
            "2239       40               3             21                  3   \n",
            "\n",
            "      NumWebPurchases  NumCatalogPurchases  NumStorePurchases  \\\n",
            "0                   8                   10                  4   \n",
            "1                   1                    1                  2   \n",
            "2                   8                    2                 10   \n",
            "3                   2                    0                  4   \n",
            "4                   5                    3                  6   \n",
            "...               ...                  ...                ...   \n",
            "2235                9                    3                  4   \n",
            "2236                8                    2                  5   \n",
            "2237                2                    3                 13   \n",
            "2238                6                    5                 10   \n",
            "2239                3                    1                  4   \n",
            "\n",
            "      NumWebVisitsMonth  AcceptedCmp3  AcceptedCmp4  AcceptedCmp5  \\\n",
            "0                     7             0             0             0   \n",
            "1                     5             0             0             0   \n",
            "2                     4             0             0             0   \n",
            "3                     6             0             0             0   \n",
            "4                     5             0             0             0   \n",
            "...                 ...           ...           ...           ...   \n",
            "2235                  5             0             0             0   \n",
            "2236                  7             0             0             0   \n",
            "2237                  6             0             1             0   \n",
            "2238                  3             0             0             0   \n",
            "2239                  7             0             0             0   \n",
            "\n",
            "      AcceptedCmp1  AcceptedCmp2  Complain  AcceptedCmp6  Children  \\\n",
            "0                0             0         0             1         0   \n",
            "1                0             0         0             0         2   \n",
            "2                0             0         0             0         0   \n",
            "3                0             0         0             0         1   \n",
            "4                0             0         0             0         1   \n",
            "...            ...           ...       ...           ...       ...   \n",
            "2235             0             0         0             0         1   \n",
            "2236             1             0         0             0         3   \n",
            "2237             0             0         0             0         0   \n",
            "2238             0             0         0             0         1   \n",
            "2239             0             0         0             1         2   \n",
            "\n",
            "      Meat Spending  Luxary Spending  Total Campaigns Accepted  \n",
            "0               718              723                         1  \n",
            "1                 8               12                         0  \n",
            "2               238              447                         0  \n",
            "3                30               14                         0  \n",
            "4               164              200                         0  \n",
            "...             ...              ...                       ...  \n",
            "2235            224              827                         0  \n",
            "2236             30              406                         1  \n",
            "2237            249              920                         1  \n",
            "2238            294              458                         0  \n",
            "2239             63               85                         1  \n",
            "\n",
            "[2240 rows x 25 columns]\n"
          ]
        }
      ]
    },
    {
      "cell_type": "code",
      "source": [
        "# print(df.dtypes)\n",
        "# print((df[\"Education\"].iloc[1]).upper())\n",
        "#Should be fine for now"
      ],
      "metadata": {
        "id": "v2EYsJeDOnHk"
      },
      "execution_count": 17,
      "outputs": []
    },
    {
      "cell_type": "code",
      "source": [
        "df = df[(df[\"Income\"] != 0) & (df[\"NumDealsPurchases\"] != 0) | (df[\"NumWebPurchases\"] != 0) | (df[\"NumCatalogPurchases\"] != 0) | (df[\"NumStorePurchases\"] != 0)]"
      ],
      "metadata": {
        "id": "okSRUpGCPjwx"
      },
      "execution_count": 18,
      "outputs": []
    },
    {
      "cell_type": "code",
      "source": [
        "print(df.shape)"
      ],
      "metadata": {
        "colab": {
          "base_uri": "https://localhost:8080/"
        },
        "id": "FkKows_qN2yb",
        "outputId": "fa6a1124-1e6f-4cb3-912b-68c1005ef346"
      },
      "execution_count": 19,
      "outputs": [
        {
          "output_type": "stream",
          "name": "stdout",
          "text": [
            "(2236, 25)\n"
          ]
        }
      ]
    },
    {
      "cell_type": "code",
      "source": [
        "#Dealing with Null values\n",
        "print(df.isnull().sum())"
      ],
      "metadata": {
        "colab": {
          "base_uri": "https://localhost:8080/"
        },
        "id": "VOI8adpC74fE",
        "outputId": "8b65aa3f-bf8d-4c76-a951-b810f991d56e"
      },
      "execution_count": 20,
      "outputs": [
        {
          "output_type": "stream",
          "name": "stdout",
          "text": [
            "ID                           0\n",
            "Year_Birth                   0\n",
            "Education                    0\n",
            "Marital_Status               0\n",
            "Income                      24\n",
            "Dt_Customer                  0\n",
            "Recency                      0\n",
            "Fruit Spending               0\n",
            "Gold Spending                0\n",
            "NumDealsPurchases            0\n",
            "NumWebPurchases              0\n",
            "NumCatalogPurchases          0\n",
            "NumStorePurchases            0\n",
            "NumWebVisitsMonth            0\n",
            "AcceptedCmp3                 0\n",
            "AcceptedCmp4                 0\n",
            "AcceptedCmp5                 0\n",
            "AcceptedCmp1                 0\n",
            "AcceptedCmp2                 0\n",
            "Complain                     0\n",
            "AcceptedCmp6                 0\n",
            "Children                     0\n",
            "Meat Spending                0\n",
            "Luxary Spending              0\n",
            "Total Campaigns Accepted     0\n",
            "dtype: int64\n"
          ]
        }
      ]
    },
    {
      "cell_type": "code",
      "source": [
        "#The income column has 24 null values.\n",
        "#We will drop them right now. Later, we may be able to fill them in using a predictive function or an AI model.\n",
        "#Feature engineering?\n",
        "\n",
        "df.dropna(inplace=True)"
      ],
      "metadata": {
        "id": "vCzOlpcleFqE",
        "colab": {
          "base_uri": "https://localhost:8080/"
        },
        "outputId": "53e8fae4-d9d2-4af4-dbaa-62a0ff28c704"
      },
      "execution_count": 21,
      "outputs": [
        {
          "output_type": "stream",
          "name": "stderr",
          "text": [
            "<ipython-input-21-d9fe7fb2e67b>:5: SettingWithCopyWarning: \n",
            "A value is trying to be set on a copy of a slice from a DataFrame\n",
            "\n",
            "See the caveats in the documentation: https://pandas.pydata.org/pandas-docs/stable/user_guide/indexing.html#returning-a-view-versus-a-copy\n",
            "  df.dropna(inplace=True)\n"
          ]
        }
      ]
    },
    {
      "cell_type": "code",
      "source": [
        "#Remove outliers\n",
        "#Let's use the IQR method to find outliers.\n",
        "#Let's first find the meaningful columns values. Afterward, if a row has enough  outlier values for each column, then remove rows that have more than an x nummber of outliers in its' columns\n",
        "#To determine the value x, We will determine the number of \"meaningful\" value x latera"
      ],
      "metadata": {
        "id": "mOnATBRVh3cz"
      },
      "execution_count": 22,
      "outputs": []
    },
    {
      "cell_type": "code",
      "source": [
        "df[\"Dt_Customer\"] = pd.to_datetime(df[\"Dt_Customer\"], format='%d-%m-%Y')"
      ],
      "metadata": {
        "id": "ew5eiUfthUlD",
        "colab": {
          "base_uri": "https://localhost:8080/"
        },
        "outputId": "c4d5bacb-af41-4c3a-e506-51a8a4f57f90"
      },
      "execution_count": 23,
      "outputs": [
        {
          "output_type": "stream",
          "name": "stderr",
          "text": [
            "<ipython-input-23-b80487d1cfd4>:1: SettingWithCopyWarning: \n",
            "A value is trying to be set on a copy of a slice from a DataFrame.\n",
            "Try using .loc[row_indexer,col_indexer] = value instead\n",
            "\n",
            "See the caveats in the documentation: https://pandas.pydata.org/pandas-docs/stable/user_guide/indexing.html#returning-a-view-versus-a-copy\n",
            "  df[\"Dt_Customer\"] = pd.to_datetime(df[\"Dt_Customer\"], format='%d-%m-%Y')\n"
          ]
        }
      ]
    },
    {
      "cell_type": "code",
      "source": [
        "#\n",
        "print(df.columns)"
      ],
      "metadata": {
        "colab": {
          "base_uri": "https://localhost:8080/"
        },
        "id": "GjtpU4nPOQy4",
        "outputId": "0804494e-4801-492d-f377-924b8816e43b"
      },
      "execution_count": 24,
      "outputs": [
        {
          "output_type": "stream",
          "name": "stdout",
          "text": [
            "Index(['ID', 'Year_Birth', 'Education', 'Marital_Status', 'Income',\n",
            "       'Dt_Customer', 'Recency', 'Fruit Spending', 'Gold Spending',\n",
            "       'NumDealsPurchases', 'NumWebPurchases', 'NumCatalogPurchases',\n",
            "       'NumStorePurchases', 'NumWebVisitsMonth', 'AcceptedCmp3',\n",
            "       'AcceptedCmp4', 'AcceptedCmp5', 'AcceptedCmp1', 'AcceptedCmp2',\n",
            "       'Complain', 'AcceptedCmp6', 'Children', 'Meat Spending',\n",
            "       'Luxary Spending', 'Total Campaigns Accepted'],\n",
            "      dtype='object')\n"
          ]
        }
      ]
    },
    {
      "cell_type": "code",
      "source": [
        "print(df[\"Income\"].quantile(0.25))"
      ],
      "metadata": {
        "colab": {
          "base_uri": "https://localhost:8080/"
        },
        "id": "zDpOD2lVUnXh",
        "outputId": "926aa506-e623-42a7-b127-4443d5708b78"
      },
      "execution_count": 25,
      "outputs": [
        {
          "output_type": "stream",
          "name": "stdout",
          "text": [
            "35335.5\n"
          ]
        }
      ]
    },
    {
      "cell_type": "code",
      "source": [
        "# #Outliers\n",
        "# #Find meaningful columns. If a row has more than x outliers in the meaningful columns, remove the row\n",
        "# #For now x is 4\n",
        "\n",
        "\n",
        "# categories_to_clean = ['Year_Birth', 'Income', 'Children', 'Dt_Customer',\n",
        "#                        'Recency', 'Fruit Spending', 'Gold Spending', 'Meat Spending', 'Luxary Spending', 'Total Campaigns Accepted',\n",
        "#                         'NumDealsPurchases', 'NumWebPurchases',  'NumCatalogPurchases', 'NumStorePurchases', 'NumWebVisitsMonth']\n",
        "#                         #fix column names according to convention\n",
        "# df[\"Number of Outliers\"] = 0\n",
        "# for category in categories_to_clean:\n",
        "#     Q1 = df[category].quantile(0.25)\n",
        "#     Q3 = df[category].quantile(0.75)\n",
        "#     IQR = Q3-Q1\n",
        "\n",
        "#     df.loc[(df[category] < Q1-1.5*IQR) | (df[category] > Q3+1.5*IQR), \"Number of Outliers\"] += 1\n",
        "#     df.loc[(df[category] < Q1-2.5*IQR) | (df[category] > Q3+3*IQR), \"Number of Outliers\"] += 10 #automatic removal :D\n",
        "\n",
        "#     #have a dictionary of outlier values. for each column. do an if statement saying that for each column if it is\n",
        "\n",
        "#     # print(df[(df[category] < Q1-1.5*IQR) | (df[category] > Q3+1.5*IQR)].shape, category)\n",
        "#     # print(Q1-1.5*IQR, Q3+1.5*IQR, category)\n",
        "\n",
        "#     # df = df[(df[category] >= Q1-1.5*IQR) & (df[category] <= Q3+1.5*IQR)]\n",
        "\n",
        "#     print(Q1, Q3, IQR, category)\n",
        "\n",
        "#     print(\"\\n\")\n"
      ],
      "metadata": {
        "id": "mMSALV2yFCtJ"
      },
      "execution_count": 26,
      "outputs": []
    },
    {
      "cell_type": "code",
      "source": [
        "# print(df.shape)\n"
      ],
      "metadata": {
        "id": "4w-LO9FxPbMa"
      },
      "execution_count": 27,
      "outputs": []
    },
    {
      "cell_type": "code",
      "source": [
        "# df = df[df[\"Number of Outliers\"] < 4].copy()\n",
        "# df.drop(columns=[\"Number of Outliers\"], inplace=True)"
      ],
      "metadata": {
        "id": "BdQQHQ-nPcl1"
      },
      "execution_count": 28,
      "outputs": []
    },
    {
      "cell_type": "code",
      "source": [
        "df[\"Dt_Customer\"] = df[\"Dt_Customer\"].astype(int)"
      ],
      "metadata": {
        "id": "W7EdKynx7140"
      },
      "execution_count": 29,
      "outputs": []
    },
    {
      "cell_type": "code",
      "source": [
        "#Mahalanobis Distance\n",
        "\n",
        "from scipy.spatial.distance import mahalanobis\n",
        "\n",
        "def mahalanobis_distances(df):\n",
        "  numeric_df = df.select_dtypes(include=[np.number])\n",
        "  mean_vector = numeric_df.mean(axis=0)\n",
        "  covariance_matrix = np.cov(numeric_df, rowvar=False)\n",
        "  inverse_covariance_matrix = np.linalg.inv(covariance_matrix)\n",
        "\n",
        "  distances = numeric_df.apply(lambda row: mahalanobis(row, mean_vector, inverse_covariance_matrix), axis=1)\n",
        "  return distances\n"
      ],
      "metadata": {
        "id": "mRq5V-iQ4a4D"
      },
      "execution_count": 30,
      "outputs": []
    },
    {
      "cell_type": "code",
      "source": [
        "distances = (mahalanobis_distances(df))\n",
        "threshold = np.percentile(distances, 95)\n",
        "df[\"Distances\"] = distances\n",
        "\n",
        "#For each row, if it's distance is lower than or equal to the 95th\n",
        "#percentile of all mahalanobis distances of the df, keep it\n",
        "#Around 100~ outliers removed\n",
        "df = df[df[\"Distances\"] <= threshold].reset_index(drop=True)"
      ],
      "metadata": {
        "id": "6ycUhzlR7lkC"
      },
      "execution_count": 31,
      "outputs": []
    },
    {
      "cell_type": "code",
      "source": [
        "print(df.duplicated().sum())\n",
        "#No duplicates\n",
        "df.reset_index(drop=True, inplace=True)"
      ],
      "metadata": {
        "id": "oEdViU4hPcj0",
        "colab": {
          "base_uri": "https://localhost:8080/"
        },
        "outputId": "971e4cb8-365b-46fc-9b46-daea3c4dc2d7"
      },
      "execution_count": 32,
      "outputs": [
        {
          "output_type": "stream",
          "name": "stdout",
          "text": [
            "0\n"
          ]
        }
      ]
    },
    {
      "cell_type": "code",
      "source": [
        "#3. Feature Understanding\n",
        "#Univariate analysis\n",
        "\n",
        "ax = df[\"Income\"].value_counts().head(10).plot(kind=\"barh\", title = \"Top 10 years coasters introduced\")\n",
        "ax.set_xlabel(\"Year introduced\")\n",
        "ax.set_ylabel(\"Income\")\n",
        "#This doesn't work well because value_counts has WAY too many values. let's try something that can encompass all 1961 unique values of income hahahahaha\n",
        "\n"
      ],
      "metadata": {
        "id": "YlXbG-bIPccA",
        "colab": {
          "base_uri": "https://localhost:8080/",
          "height": 494
        },
        "outputId": "3e414109-58df-4cb4-e6a1-a72e7ff6cde5"
      },
      "execution_count": 33,
      "outputs": [
        {
          "output_type": "execute_result",
          "data": {
            "text/plain": [
              "Text(0, 0.5, 'Income')"
            ]
          },
          "metadata": {},
          "execution_count": 33
        },
        {
          "output_type": "display_data",
          "data": {
            "text/plain": [
              "<Figure size 640x480 with 1 Axes>"
            ],
            "image/png": "[encoded data removed]"
          },
          "metadata": {}
        }
      ]
    },
    {
      "cell_type": "code",
      "source": [
        "print(df[\"Income\"].max())\n",
        "#Ok outliers like this need to be removed."
      ],
      "metadata": {
        "colab": {
          "base_uri": "https://localhost:8080/"
        },
        "id": "uUdY9JBkSd-D",
        "outputId": "0f00ca57-8688-4e6d-8ba0-b79dc5dffad0"
      },
      "execution_count": 34,
      "outputs": [
        {
          "output_type": "stream",
          "name": "stdout",
          "text": [
            "98777.0\n"
          ]
        }
      ]
    },
    {
      "cell_type": "code",
      "source": [
        "df[\"Income\"].plot(kind=\"hist\", title = \"Top 10 years coasters introduced\", bins = 40, range=(0, 200000))\n",
        "ax.set_xlabel(\"Year introduced\")\n"
      ],
      "metadata": {
        "colab": {
          "base_uri": "https://localhost:8080/",
          "height": 470
        },
        "id": "x9Ro3HK9RLyt",
        "outputId": "16cabfec-8755-4ac3-e573-237cf64efcc4"
      },
      "execution_count": 35,
      "outputs": [
        {
          "output_type": "execute_result",
          "data": {
            "text/plain": [
              "Text(0.5, 28.0, 'Year introduced')"
            ]
          },
          "metadata": {},
          "execution_count": 35
        },
        {
          "output_type": "display_data",
          "data": {
            "text/plain": [
              "<Figure size 640x480 with 1 Axes>"
            ],
            "image/png": "[encoded data removed]"
          },
          "metadata": {}
        }
      ]
    },
    {
      "cell_type": "code",
      "source": [
        "print(df[\"Income\"].max())"
      ],
      "metadata": {
        "id": "fHM9UapGPcMQ",
        "colab": {
          "base_uri": "https://localhost:8080/"
        },
        "outputId": "926517a3-6d76-4271-cfb1-7d945cb4cf28"
      },
      "execution_count": 36,
      "outputs": [
        {
          "output_type": "stream",
          "name": "stdout",
          "text": [
            "98777.0\n"
          ]
        }
      ]
    },
    {
      "cell_type": "code",
      "source": [
        "print(df.columns)"
      ],
      "metadata": {
        "colab": {
          "base_uri": "https://localhost:8080/"
        },
        "id": "4iJbvF3XDPXq",
        "outputId": "710644fa-f148-4723-8f24-ff0772a7eff4"
      },
      "execution_count": 37,
      "outputs": [
        {
          "output_type": "stream",
          "name": "stdout",
          "text": [
            "Index(['ID', 'Year_Birth', 'Education', 'Marital_Status', 'Income',\n",
            "       'Dt_Customer', 'Recency', 'Fruit Spending', 'Gold Spending',\n",
            "       'NumDealsPurchases', 'NumWebPurchases', 'NumCatalogPurchases',\n",
            "       'NumStorePurchases', 'NumWebVisitsMonth', 'AcceptedCmp3',\n",
            "       'AcceptedCmp4', 'AcceptedCmp5', 'AcceptedCmp1', 'AcceptedCmp2',\n",
            "       'Complain', 'AcceptedCmp6', 'Children', 'Meat Spending',\n",
            "       'Luxary Spending', 'Total Campaigns Accepted', 'Distances'],\n",
            "      dtype='object')\n"
          ]
        }
      ]
    },
    {
      "cell_type": "code",
      "source": [
        "df[\"Dt_Customer\"].plot(kind=\"hist\", bins = 40)\n",
        "ax.set_xlabel(\"Year introduced\")\n"
      ],
      "metadata": {
        "colab": {
          "base_uri": "https://localhost:8080/",
          "height": 465
        },
        "id": "pHk5IBPIDIbs",
        "outputId": "bcc13756-5c3f-47e6-a8cb-47e9e2cea541"
      },
      "execution_count": 38,
      "outputs": [
        {
          "output_type": "execute_result",
          "data": {
            "text/plain": [
              "Text(0.5, 28.0, 'Year introduced')"
            ]
          },
          "metadata": {},
          "execution_count": 38
        },
        {
          "output_type": "display_data",
          "data": {
            "text/plain": [
              "<Figure size 640x480 with 1 Axes>"
            ],
            "image/png": "[encoded data removed]"
          },
          "metadata": {}
        }
      ]
    },
    {
      "cell_type": "code",
      "source": [
        "# numeric_df = df.select_dtypes(include=[np.number])\n",
        "\n",
        "# for col1, col2 in zip(numeric_df.columns[::2], numeric_df.columns[1::2]):\n",
        "#   df[[col1, col2]].plot(kind=\"hist\", bins = 20, figsize = (3, 3))\n",
        "#   plt.show()\n",
        "\n",
        "numeric_df = df.select_dtypes(include=[np.number])\n",
        "\n",
        "column_number = 0\n",
        "figure, axis = plt.subplots(len(numeric_df.columns), 2, figsize=(10, 15))\n",
        "\n",
        "while column_number < len(numeric_df.columns):\n",
        "    axis[column_number, 0].hist(df[df.columns[column_number]], bins = 20)\n",
        "    if(column_number + 1 < len(numeric_df.columns)):\n",
        "      axis[column_number, 1].hist(df[df.columns[column_number+1]], bins = 20)\n",
        "      column_number += 1\n",
        "\n",
        "    column_number += 1\n",
        "\n",
        "plt.show()\n",
        "\n",
        "# for i in range(0, len(numeric_df.columns)/2):\n",
        "#   for y in range(2):\n",
        "#     axis[i, 0].hist(df[df.columns[i]], bins = 20)\n",
        "#     axis[i, 1].hist(df[df.columns[i+1]], bins = 20)\n",
        "#     plt.show()\n"
      ],
      "metadata": {
        "colab": {
          "base_uri": "https://localhost:8080/",
          "height": 1000
        },
        "id": "DS7RTjg6DzE1",
        "outputId": "0f9ffc09-21ec-4fc9-880d-f0e86a2b52b2"
      },
      "execution_count": 53,
      "outputs": [
        {
          "output_type": "display_data",
          "data": {
            "text/plain": [
              "<Figure size 1000x1500 with 8 Axes>"
            ],
            "image/png": "[encoded data removed]"
          },
          "metadata": {}
        }
      ]
    },
    {
      "cell_type": "code",
      "source": [
        "df[\"Dt_Customer\"].plot(kind=\"hist\", bins = 40)\n",
        "ax.set_xlabel(\"Year introduced\")\n"
      ],
      "metadata": {
        "id": "wU4_ysMGDgfS",
        "colab": {
          "base_uri": "https://localhost:8080/",
          "height": 465
        },
        "outputId": "5975dd35-1961-41bb-de93-9ad7451a2398"
      },
      "execution_count": 40,
      "outputs": [
        {
          "output_type": "execute_result",
          "data": {
            "text/plain": [
              "Text(0.5, 28.0, 'Year introduced')"
            ]
          },
          "metadata": {},
          "execution_count": 40
        },
        {
          "output_type": "display_data",
          "data": {
            "text/plain": [
              "<Figure size 640x480 with 1 Axes>"
            ],
            "image/png": "[encoded data removed]"
          },
          "metadata": {}
        }
      ]
    },
    {
      "cell_type": "code",
      "source": [
        "# df_filtered = df[(df[\"AcceptedCmp1\"] == 1) | (df[\"AcceptedCmp2\"] == 1) | (df[\"AcceptedCmp3\"] == 1) | (df[\"AcceptedCmp4\"] == 1) | (df[\"AcceptedCmp5\"] == 1) | (df[\"Response\"] == 1)]\n",
        "\n",
        "# for category in categories_to_clean:\n",
        "#   t = df_filtered[category].value_counts(normalize=True)\n",
        "#   plt.scatter(t.index, t.values)\n",
        "#   plt.title(category)\n",
        "#   plt.show()\n",
        "\n",
        "#   t = df[category].value_counts(normalize=True)\n",
        "#   plt.scatter(t.index, t.values)\n",
        "#   plt.title(category)\n",
        "#   plt.show()\n",
        "#   # print(df_filtered[category].value_counts(normalize=True).head(3))\n",
        "\n",
        "# # modes = []\n",
        "# # for category in categories_to_clean:\n",
        "# #     mode = df_filtered[category].mode()[0]\n",
        "# #     if(isinstance(mode, pd.Timestamp)):\n",
        "# #       mode = int(mode.timestamp() - datetime.datetime(2000, 1, 1).timestamp())\n",
        "# #     modes.append(int(mode))\n",
        "\n",
        "# # i = 1\n",
        "# # for mode in modes:\n",
        "# #   print(mode, categories_to_clean[i-1])\n",
        "# #   i += 1\n",
        "\n",
        "# # plt.pie(modes, labels=categories_to_clean, autopct='%1.1f%%')\n",
        "# # plt.show()"
      ],
      "metadata": {
        "id": "QEZAIcnSthCg"
      },
      "execution_count": 41,
      "outputs": []
    },
    {
      "cell_type": "code",
      "source": [
        "#Step 5: Asking questions about our data\n",
        "# I want to find out:\n",
        "# a) find out which customers are most likely to spend more money on certain products, in order to gain insights on our customers\n",
        "\n",
        "#and also know\n",
        "# b) which customers are more likely to buy our products, and\n",
        "# c) which customers are most receptive to our marketing campaign\n",
        "# In order to better understand our top customer demographics and how they correlate to our marketing campaign receptiveness"
      ],
      "metadata": {
        "id": "X5QjUTl1p4Jd"
      },
      "execution_count": 42,
      "outputs": []
    },
    {
      "cell_type": "code",
      "source": [
        "print(df.duplicated().sum())"
      ],
      "metadata": {
        "colab": {
          "base_uri": "https://localhost:8080/"
        },
        "id": "V2k0JTjbOBwE",
        "outputId": "b8e96b26-a881-4268-b750-cdaa8b2fa5b8"
      },
      "execution_count": 43,
      "outputs": [
        {
          "output_type": "stream",
          "name": "stdout",
          "text": [
            "0\n"
          ]
        }
      ]
    }
  ]
}